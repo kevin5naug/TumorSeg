{
 "cells": [
  {
   "cell_type": "code",
   "execution_count": 1,
   "metadata": {
    "collapsed": true
   },
   "outputs": [],
   "source": [
    "\n",
    "# coding: utf-8\n",
    "\n",
    "# In[14]:\n",
    "\n",
    "import torch\n",
    "from torch.autograd import Variable\n",
    "import torch.nn as nn\n",
    "import torch.nn.functional as F\n",
    "import numpy as np\n",
    "import pickle as pkl\n",
    "import matplotlib.pyplot as plt\n",
    "\n",
    "class TwoPathConv(nn.Module):\n",
    "    def __init__(self):\n",
    "        super(TwoPathConv, self).__init__()\n",
    "        self.local_conv1 = nn.Conv2d(3, 64, 7)\n",
    "        self.local_conv2 = nn.Conv2d(64, 64, 3)\n",
    "        self.local_conv3 = nn.Conv2d(3, 160, 13)\n",
    "        self.total_conv = nn.Conv2d(224, 3, 21)\n",
    "\n",
    "    def forward(self, x):\n",
    "        under_x = F.relu(self.local_conv3(x))\n",
    "        x = self.local_conv1(x)\n",
    "        x = F.max_pool2d(F.relu(x), 4, stride = 1)\n",
    "        x = self.local_conv2(x)\n",
    "        x = F.max_pool2d(F.relu(x), 2, stride = 1)\n",
    "        x = torch.cat((x, under_x), 1)\n",
    "        x = self.total_conv(x)\n",
    "        x = x.view(-1,3)\n",
    "        return x\n",
    "\n",
    "    \n",
    "import h5py\n",
    "#challenge_f = h5py.File('Challenge.h5', 'r') #load challenge data\n",
    "train_f = h5py.File('unet/Unet-training.h5', 'r')\n",
    "SAMPLE = [ \"LG/0001\", \"LG/0002\", \"LG/0004\", \"LG/0006\", \"LG/0008\", \"LG/0011\",\n",
    "          \"LG/0012\", \"LG/0013\", \"LG/0014\", \"LG/0015\", \"HG/0001\", \"HG/0002\",\n",
    "          \"HG/0003\", \"HG/0004\", \"HG/0005\", \"HG/0006\", \"HG/0007\", \"HG/0008\",\n",
    "          \"HG/0009\", \"HG/0010\", \"HG/0011\", \"HG/0012\", \"HG/0013\", \"HG/0014\",\n",
    "          \"HG/0015\", \"HG/0022\", \"HG/0024\", \"HG/0025\", \"HG/0026\", \"HG/0027\",]\n",
    "'''\n",
    "train_f = h5py.File('Challenge.h5', 'r')\n",
    "SAMPLE = [ \"HG/0301\", \"HG/0302\",\n",
    "          \"HG/0303\", \"HG/0304\", \"HG/0305\", \"HG/0306\", \"HG/0307\", \"HG/0308\",\n",
    "          \"HG/0309\", \"HG/0310\", ]\n",
    "'''\n",
    "#for i in enumerate(SAMPLE):\n",
    "#    index, case = i\n",
    "#    case1 = case[:2]\n",
    "#    case2 = case[3:]\n",
    "#    print(challenge_f[case1][case2].shape)\n",
    "    \n",
    "\"\"\"def create_test_batch(img = 0, x = 16, z= 0):\n",
    "    case = SAMPLE[img]\n",
    "    case1 = case[:2]\n",
    "    case2 = case[3:]\n",
    "    batch = []\n",
    "    _, X, Y, Z = train_f[case1][case2].shape\n",
    "    img1 = train_f[case1][case2][:4,:,:,z]\n",
    "    for y in range(16, Y - 16):\n",
    "        content=img1[:, x-16:x+17, y-16:y+17]\n",
    "        content[3, :,:]=0\n",
    "        batch.append(content)\n",
    "    batch = torch.from_numpy(np.array(batch))\n",
    "    return batch\n",
    "\"\"\"\n",
    "def create_test_batch(img = 0, x = 16, z= 0):\n",
    "    case = SAMPLE[img]\n",
    "    case1 = case[:2]\n",
    "    case2 = case[3:]\n",
    "    batch = []\n",
    "    _, X, Y, Z = train_f[case1][case2].shape\n",
    "    img1 = train_f[case1][case2][:4,:,:,z]\n",
    "    for y in range(16, Y - 16):\n",
    "        content=img1[0:3, x-16:x+17, y-16:y+17]\n",
    "        batch.append(content)\n",
    "    batch = torch.from_numpy(np.array(batch))\n",
    "    return batch\n",
    "\n",
    "\n",
    "def create_test_batch_cas(img = 0, x = 32, z= 0):\n",
    "    case = SAMPLE[img]\n",
    "    case1 = case[:2]\n",
    "    case2 = case[3:]\n",
    "    batch = []\n",
    "    _, X, Y, Z = train_f[case1][case2].shape\n",
    "    img1 = train_f[case1][case2][:,:,:,z]\n",
    "    img1 = np.pad(img1, pad_width = ((0,0), (32,32), (32,32)), mode = 'constant')\n",
    "    for y in range(32, Y + 32):\n",
    "        batch.append(img1[:, x-32:x+33, y-32:y+33])\n",
    "    batch = torch.from_numpy(np.array(batch))\n",
    "    return batch\n",
    "\n",
    "# In[ ]:"
   ]
  },
  {
   "cell_type": "code",
   "execution_count": 2,
   "metadata": {},
   "outputs": [
    {
     "data": {
      "text/plain": [
       "TwoPathConv (\n",
       "  (local_conv1): Conv2d(3, 64, kernel_size=(7, 7), stride=(1, 1))\n",
       "  (local_conv2): Conv2d(64, 64, kernel_size=(3, 3), stride=(1, 1))\n",
       "  (local_conv3): Conv2d(3, 160, kernel_size=(13, 13), stride=(1, 1))\n",
       "  (total_conv): Conv2d(224, 3, kernel_size=(21, 21), stride=(1, 1))\n",
       ")"
      ]
     },
     "execution_count": 2,
     "metadata": {},
     "output_type": "execute_result"
    }
   ],
   "source": [
    "import time\n",
    "import numpy as np\n",
    "from torch.autograd import Variable\n",
    "net = TwoPathConv()\n",
    "#net = LocalPathConv()\n",
    "#net = InputCasNet()\n",
    "net.load_state_dict(torch.load('2ch/HG3ch_p1_3.txt'))\n",
    "#net.load_state_dict(torch.load('local_path_cnn/phase1_param_l1_1.txt'))\n",
    "#net.load_state_dict(torch.load('phase1_input_cas_net.txt'))\n",
    "net.cuda(1)"
   ]
  },
  {
   "cell_type": "code",
   "execution_count": 10,
   "metadata": {
    "scrolled": false
   },
   "outputs": [
    {
     "name": "stdout",
     "output_type": "stream",
     "text": [
      "160 216 176\n",
      "Ongoing ... (17, 25, 100)\n",
      "time used 0.484\n",
      "Ongoing ... (17, 35, 100)\n",
      "time used 0.858\n",
      "Ongoing ... (17, 45, 100)\n",
      "time used 1.220\n",
      "Ongoing ... (17, 55, 100)\n",
      "time used 1.558\n",
      "Ongoing ... (17, 65, 100)\n",
      "time used 1.896\n",
      "Ongoing ... (17, 75, 100)\n",
      "time used 2.234\n",
      "Ongoing ... (17, 85, 100)\n",
      "time used 2.574\n",
      "Ongoing ... (17, 95, 100)\n",
      "time used 2.912\n",
      "Ongoing ... (17, 105, 100)\n",
      "time used 3.250\n",
      "Ongoing ... (17, 115, 100)\n",
      "time used 3.587\n",
      "Ongoing ... (17, 125, 100)\n",
      "time used 3.925\n",
      "Ongoing ... (17, 135, 100)\n",
      "time used 4.263\n"
     ]
    }
   ],
   "source": [
    "prev_time = time.clock()\n",
    "#print(matrix_pred)\n",
    "s = 0\n",
    "#matrix_pred = {}\n",
    "pred = {}\n",
    "matrix_pred ={}\n",
    "\n",
    "for img in range(17, 18):\n",
    "    case = SAMPLE[img]\n",
    "    case1 = case[:2]\n",
    "    case2 = case[3:]\n",
    "    #_, X, Y, Z = challenge_f[case1][case2].shape\n",
    "    _, X, Y, Z = train_f[case1][case2].shape\n",
    "    print(X, Y, Z)\n",
    "    matrix_pred[img] = []\n",
    "    for x in range(16, X - 16):\n",
    "    #for x in range(32, X + 32):\n",
    "        pred[(img,x)] = []\n",
    "        for z in range(100,101):\n",
    "            s += 1\n",
    "            X_batch = create_test_batch(img = img, x = x, z = z)\n",
    "            #X_batch = create_test_batch_cas(img = img, x = x, z = z)\n",
    "            X_batch = Variable(X_batch.cuda(1))\n",
    "            y_pred = net.forward(X_batch)\n",
    "            y_pred = y_pred.data.cpu().numpy()\n",
    "            if (s%10 == 0):\n",
    "                print ('Ongoing ...' ,(img, x, z))\n",
    "                print ('time used %.3f' % (time.clock()-prev_time))\n",
    "            pred[(img,x)].append(y_pred.argmax(axis = 1)) \n",
    "        matrix_pred[img].append(pred[(img,x)])\n",
    "\n"
   ]
  },
  {
   "cell_type": "code",
   "execution_count": 11,
   "metadata": {},
   "outputs": [
    {
     "name": "stdout",
     "output_type": "stream",
     "text": [
      "(128, 1, 184)\n"
     ]
    },
    {
     "data": {
      "image/png": "[encoded data removed]",
      "text/plain": [
       "<matplotlib.figure.Figure at 0x7fa39c2f3eb8>"
      ]
     },
     "metadata": {},
     "output_type": "display_data"
    }
   ],
   "source": [
    "img = 17\n",
    "matrix_pred[img] = np.array(matrix_pred[img])\n",
    "print(matrix_pred[img].shape)\n",
    "plt.imshow(matrix_pred[img][:,0,:], cmap='gray')\n",
    "plt.show()"
   ]
  },
  {
   "cell_type": "code",
   "execution_count": 8,
   "metadata": {},
   "outputs": [
    {
     "data": {
      "image/png": "[encoded data removed]",
      "text/plain": [
       "<matplotlib.figure.Figure at 0x7fa35406feb8>"
      ]
     },
     "metadata": {},
     "output_type": "display_data"
    },
    {
     "name": "stdout",
     "output_type": "stream",
     "text": [
      "[ 0.  0.  0.  0.  0.  0.  0.  0.  0.  0.  0.  0.  0.  0.  0.  0.  0.  0.\n",
      "  0.  0.  0.  0.  0.  0.  0.  0.  0.  0.  0.  0.  0.  0.  0.  0.  0.  0.\n",
      "  0.  0.  0.  0.  0.  0.  0.  0.  0.  0.  0.  0.  0.  0.  0.  0.  0.  0.\n",
      "  0.  0.  0.  0.  0.  0.  0.  0.  0.  0.  0.  0.  0.  0.  0.  0.  0.  0.\n",
      "  0.  0.  0.  0.  0.  3.  3.  3.  4.  4.  4.  4.  4.  4.  4.  4.  4.  4.\n",
      "  4.  4.  4.  4.  4.  4.  4.  4.  4.  2.  2.  2.  2.  2.  2.  2.  2.  0.\n",
      "  0.  0.  0.  0.  0.  0.  0.  2.  2.  2.  2.  2.  2.  2.  2.  2.  2.  2.\n",
      "  2.  2.  2.  2.  2.  2.  2.  2.  2.  2.  2.  2.  2.  2.  2.  0.  0.  0.\n",
      "  0.  0.  0.  0.  0.  0.  0.  0.  0.  0.  0.  0.  0.  0.  0.  0.  0.  0.\n",
      "  0.  0.  0.  0.  0.  0.  0.  0.  0.  0.  0.  0.  0.  0.  0.  0.  0.  0.\n",
      "  0.  0.  0.  0.  0.  0.  0.  0.  0.  0.  0.  0.  0.  0.  0.  0.  0.  0.\n",
      "  0.  0.  0.  0.  0.  0.  0.  0.  0.  0.  0.  0.  0.  0.  0.  0.  0.  0.]\n"
     ]
    }
   ],
   "source": [
    "case = SAMPLE[10] \n",
    "case1 = case[:2] \n",
    "case2 = case[3:] \n",
    "_, X, Y, Z = train_f[case1][case2].shape \n",
    "for i in range(4,5): \n",
    "    plt.imshow(train_f[case1][case2][i,:,:,80], cmap='gray') \n",
    "    plt.show()\n",
    "print(train_f[case1][case2][i,40,:,100])"
   ]
  },
  {
   "cell_type": "code",
   "execution_count": null,
   "metadata": {
    "collapsed": true
   },
   "outputs": [],
   "source": [
    "#cas-net test\n",
    "\n",
    "import torch\n",
    "from torch.autograd import Variable\n",
    "import torch.nn as nn\n",
    "import torch.nn.functional as F\n",
    "import h5py\n",
    "import matplotlib.pyplot as plt\n",
    "from torch.optim.lr_scheduler import StepLR\n",
    "import numpy as np\n",
    "import time\n",
    "import torch.nn.init as ini\n",
    "import multiprocessing\n",
    "from multiprocessing import Queue\n",
    "import random\n",
    "from random import shuffle\n",
    "import pickle\n",
    "\n",
    "class InputCasNet(nn.Module):\n",
    "    def __init__(self):\n",
    "        super(InputCasNet, self).__init__()\n",
    "        self.first_upper_layer1=nn.Sequential(\n",
    "            nn.Conv2d(4,64,7),\n",
    "            nn.BatchNorm2d(64),\n",
    "            nn.ReLU(),\n",
    "            nn.MaxPool2d((4,4),stride = 1)\n",
    "        )\n",
    "        self.first_upper_layer2=nn.Sequential(\n",
    "            nn.Conv2d(64,64,3),\n",
    "            nn.BatchNorm2d(64),\n",
    "            nn.ReLU(),\n",
    "            nn.MaxPool2d((2,2),stride = 1)\n",
    "        )\n",
    "        self.first_under_layer1=nn.Sequential(\n",
    "            nn.Conv2d(4,160,13),\n",
    "            nn.BatchNorm2d(160),\n",
    "            nn.ReLU()\n",
    "        )\n",
    "        \n",
    "        self.first_final_layer=nn.Conv2d(224,5,21)\n",
    "        \n",
    "        self.second_upper_layer1=nn.Sequential(\n",
    "            nn.Conv2d(9,64,7),\n",
    "            nn.BatchNorm2d(64),\n",
    "            nn.ReLU(),\n",
    "            nn.MaxPool2d((4,4),stride = 1)\n",
    "        )\n",
    "        self.second_upper_layer2=nn.Sequential(\n",
    "            nn.Conv2d(64,64,3),\n",
    "            nn.BatchNorm2d(64),\n",
    "            nn.ReLU(),\n",
    "            nn.MaxPool2d((2,2),stride = 1)\n",
    "        )\n",
    "        self.second_under_layer1=self.under_layer1 = nn.Sequential(\n",
    "            nn.Conv2d(9,160,13),\n",
    "            nn.BatchNorm2d(160),\n",
    "            nn.ReLU()\n",
    "        )\n",
    "        self.second_final_layer = nn.Conv2d(224,5,21)\n",
    "    \n",
    "    def forward(self, x1):\n",
    "        upper_x=self.first_upper_layer2(self.first_upper_layer1(x1))\n",
    "        under_x=self.first_under_layer1(x1)\n",
    "        x=torch.cat((upper_x, under_x), 1)\n",
    "        x=self.first_final_layer(x)\n",
    "        x2=x1[:, :, 16:48+1, 16:48+1]*1.0\n",
    "        x2=torch.cat((x, x2), 1)\n",
    "        upper_x2=self.second_upper_layer2(self.second_upper_layer1(x2))\n",
    "        under_x2=self.second_under_layer1(x2)\n",
    "        x3=torch.cat((upper_x2, under_x2), 1)\n",
    "        x3=self.second_final_layer(x3)\n",
    "        return x3\n",
    "\n",
    "cas_net=InputCasNet()\n",
    "cas_net.load_state_dict(torch.load('phase1_input_cas_net.txt'))\n",
    "cas_net.cuda(0)"
   ]
  },
  {
   "cell_type": "code",
   "execution_count": null,
   "metadata": {
    "collapsed": true
   },
   "outputs": [],
   "source": []
  },
  {
   "cell_type": "code",
   "execution_count": null,
   "metadata": {
    "collapsed": true
   },
   "outputs": [],
   "source": []
  }
 ],
 "metadata": {
  "kernelspec": {
   "display_name": "Python 3",
   "language": "python",
   "name": "python3"
  },
  "language_info": {
   "codemirror_mode": {
    "name": "ipython",
    "version": 3
   },
   "file_extension": ".py",
   "mimetype": "text/x-python",
   "name": "python",
   "nbconvert_exporter": "python",
   "pygments_lexer": "ipython3",
   "version": "3.6.1"
  }
 },
 "nbformat": 4,
 "nbformat_minor": 2
}
