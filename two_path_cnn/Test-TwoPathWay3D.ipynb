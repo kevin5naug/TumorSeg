{
 "cells": [
  {
   "cell_type": "code",
   "execution_count": null,
   "metadata": {
    "collapsed": true
   },
   "outputs": [],
   "source": [
    "import torch\n",
    "from torch.autograd import Variable\n",
    "import torch.nn as nn\n",
    "import torch.nn.functional as F\n",
    "import numpy as np\n",
    "import pickle as pkl\n",
    "import matplotlib.pyplot as plt\n",
    "\n",
    "class TwoPathConv(nn.Module):\n",
    "    def __init__(self):\n",
    "        super(TwoPathConv, self).__init__()\n",
    "        self.local_conv1 = nn.Conv3d(4, 64, (7, 7, 3))\n",
    "        self.local_conv2 = nn.Conv3d(64, 64, (3, 3, 3))\n",
    "        self.local_conv3 = nn.Conv3d(4, 160, (13, 13, 5))\n",
    "        self.total_conv = nn.Conv3d(224, 5, (21, 21, 1))\n",
    "\n",
    "    def forward(self, x):\n",
    "        under_x = F.relu(self.local_conv3(x))\n",
    "        x = self.local_conv1(x)\n",
    "        x = F.max_pool3d(F.relu(x), (4, 4, 1), stride = 1)\n",
    "        x = self.local_conv2(x)\n",
    "        x = F.max_pool3d(F.relu(x), (2, 2, 1), stride = 1)\n",
    "        x = torch.cat((x, under_x), 1)\n",
    "        x = self.total_conv(x)\n",
    "        x = x.view(-1,5)\n",
    "        return x\n",
    "    \n",
    "def create_test_batch(img = 0, x = 16, z= 0):\n",
    "    case = SAMPLE[img]\n",
    "    case1 = case[:2]\n",
    "    case2 = case[3:]\n",
    "    batch = []\n",
    "    _, X, Y, Z = train_f[case1][case2].shape\n",
    "    img1 = train_f[case1][case2][:4,:,:,z]\n",
    "    for y in range(16, Y - 16):\n",
    "        content=img1[:, x-16:x+17, y-16:y+17]\n",
    "        content[3, :,:]=0\n",
    "        batch.append(content)\n",
    "    batch = torch.from_numpy(np.array(batch))\n",
    "    return batch"
   ]
  }
 ],
 "metadata": {
  "kernelspec": {
   "display_name": "Python 3",
   "language": "python",
   "name": "python3"
  },
  "language_info": {
   "codemirror_mode": {
    "name": "ipython",
    "version": 3
   },
   "file_extension": ".py",
   "mimetype": "text/x-python",
   "name": "python",
   "nbconvert_exporter": "python",
   "pygments_lexer": "ipython3",
   "version": "3.6.1"
  }
 },
 "nbformat": 4,
 "nbformat_minor": 2
}
