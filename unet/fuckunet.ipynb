{
 "cells": [
  {
   "cell_type": "code",
   "execution_count": 1,
   "metadata": {
    "collapsed": true,
    "scrolled": false
   },
   "outputs": [],
   "source": [
    "import torch\n",
    "from torch.autograd import Variable\n",
    "import torch.nn as nn\n",
    "import torch.nn.functional as F\n",
    "import numpy as np\n",
    "import time\n",
    "import torch.nn.init as ini\n",
    "import h5py\n",
    "import random\n",
    "\n",
    "class Unet(nn.Module):\n",
    "    def __init__(self):\n",
    "        super(Unet, self).__init__()\n",
    "        self.first_layer_down_conv1 = nn.Conv3d(4, 8, 3, padding = 1)\n",
    "        self.first_layer_down_bn1 = nn.BatchNorm3d(8)\n",
    "        self.first_layer_down_pre1 = nn.PReLU()\n",
    "        self.second_layer_down_conv1 = nn.Conv3d(8, 16, 3, padding = 1, stride = 2)\n",
    "        self.second_layer_down_bn1 = nn.BatchNorm3d(16)\n",
    "        self.second_layer_down_pre1 = nn.PReLU()\n",
    "        self.second_layer_down_conv2 = nn.Conv3d(16, 16, 3, padding = 1)\n",
    "        self.second_layer_down_bn2 = nn.BatchNorm3d(16)\n",
    "        self.second_layer_down_pre2 = nn.PReLU()\n",
    "        self.third_layer_down_conv1 = nn.Conv3d(16, 32, 3, padding = 1, stride = 2)\n",
    "        self.third_layer_down_bn1 = nn.BatchNorm3d(32)\n",
    "        self.third_layer_down_pre1 = nn.PReLU()\n",
    "        self.third_layer_down_conv2 = nn.Conv3d(32, 32, 3, padding = 1)\n",
    "        self.third_layer_down_bn2 = nn.BatchNorm3d(32)\n",
    "        self.third_layer_down_pre2 = nn.PReLU()\n",
    "        self.fourth_layer_down_conv1 = nn.Conv3d(32, 64, 3, padding = 1, stride = 2)\n",
    "        self.fourth_layer_down_bn1 = nn.BatchNorm3d(64)\n",
    "        self.fourth_layer_down_pre1 = nn.PReLU()\n",
    "        self.fourth_layer_down_conv2 = nn.Conv3d(64, 64, 3, padding = 1)\n",
    "        self.fourth_layer_up_conv1 = nn.Conv3d(64, 64, 1)\n",
    "        self.fourth_layer_up_bn1 = nn.BatchNorm3d(64)\n",
    "        self.fourth_layer_up_pre1 = nn.PReLU()\n",
    "        self.fourth_layer_up_deconv = nn.ConvTranspose3d(64, 32, 3, padding = 1, output_padding = 1, stride = 2)\n",
    "        self.fourth_layer_up_bn2 = nn.BatchNorm3d(32)\n",
    "        self.fourth_layer_up_pre2 = nn.PReLU()\n",
    "        self.third_layer_up_conv1 = nn.Conv3d(64, 64, 3, padding = 1)\n",
    "        self.third_layer_up_bn1 = nn.BatchNorm3d(64)\n",
    "        self.third_layer_up_pre1 = nn.PReLU()\n",
    "        self.third_layer_up_conv2 = nn.Conv3d(64, 32, 1)\n",
    "        self.third_layer_up_bn2 = nn.BatchNorm3d(32)\n",
    "        self.third_layer_up_pre2 = nn.PReLU()\n",
    "        self.third_layer_up_deconv = nn.ConvTranspose3d(32, 16, 3, padding = 1, output_padding = 1, stride = 2)\n",
    "        self.third_layer_up_bn3 = nn.BatchNorm3d(16)\n",
    "        self.third_layer_up_pre3 = nn.PReLU()\n",
    "        self.second_layer_up_conv1 = nn.Conv3d(32, 32, 3, padding = 1)\n",
    "        self.second_layer_up_bn1 = nn.BatchNorm3d(32)\n",
    "        self.second_layer_up_pre1 = nn.PReLU()\n",
    "        self.second_layer_up_conv2 = nn.Conv3d(32, 16, 1)\n",
    "        self.second_layer_up_bn2 = nn.BatchNorm3d(16)\n",
    "        self.second_layer_up_pre2 = nn.PReLU()\n",
    "        self.second_layer_up_deconv = nn.ConvTranspose3d(16, 8, 3, padding = 1, output_padding = 1, stride = 2)\n",
    "        self.second_layer_up_bn3 = nn.BatchNorm3d(8)\n",
    "        self.second_layer_up_pre3 = nn.PReLU()\n",
    "        self.first_layer_up_conv1 = nn.Conv3d(16, 16, 3, padding = 1)\n",
    "        self.first_layer_up_bn1 = nn.BatchNorm3d(16)\n",
    "        self.first_layer_up_pre1 = nn.PReLU()\n",
    "        self.third_seg = nn.Conv3d(64, 5, 1)\n",
    "        self.second_seg = nn.Conv3d(32, 5, 1)\n",
    "        self.first_seg = nn.Conv3d(16, 5, 1)\n",
    "        self.upsample_layer = nn.Upsample(scale_factor = 2, mode = 'trilinear')\n",
    "\n",
    "    def forward(self, x):\n",
    "        x = self.first_layer_down_conv1(x)\n",
    "        x = self.first_layer_down_bn1(x)\n",
    "        x = self.first_layer_down_pre1(x)\n",
    "        first_layer_feature = x\n",
    "        \n",
    "        x = self.second_layer_down_conv1(x)\n",
    "        temp = x\n",
    "        x = self.second_layer_down_bn1(x)\n",
    "        x = self.second_layer_down_pre1(x)\n",
    "        x = self.second_layer_down_conv2(x)\n",
    "        x = torch.add(x, temp)\n",
    "        x = self.second_layer_down_bn2(x)\n",
    "        x = self.second_layer_down_pre2(x)\n",
    "        second_layer_feature = x\n",
    "        \n",
    "        x = self.third_layer_down_conv1(x)\n",
    "        temp = x\n",
    "        x = self.third_layer_down_bn1(x)\n",
    "        x = self.third_layer_down_pre1(x)\n",
    "        x = self.third_layer_down_conv2(x)\n",
    "        x = torch.add(x, temp)\n",
    "        x = self.third_layer_down_bn2(x)\n",
    "        x = self.third_layer_down_pre2(x)\n",
    "        third_layer_feature = x\n",
    "        \n",
    "        x = self.fourth_layer_down_conv1(x)\n",
    "        temp = x\n",
    "        x = self.fourth_layer_down_bn1(x)\n",
    "        x = self.fourth_layer_down_pre1(x)\n",
    "        x = self.fourth_layer_down_conv2(x)\n",
    "        x = torch.add(x, temp)\n",
    "        \n",
    "        x = self.fourth_layer_up_conv1(x)\n",
    "        x = self.fourth_layer_up_bn1(x)\n",
    "        x = self.fourth_layer_up_pre1(x)\n",
    "        x = self.fourth_layer_up_deconv(x)\n",
    "        x = self.fourth_layer_up_bn2(x)\n",
    "        x = self.fourth_layer_up_pre2(x)\n",
    "        \n",
    "        x = torch.cat((x, third_layer_feature), 1)\n",
    "        x = self.third_layer_up_conv1(x)\n",
    "        x = self.third_layer_up_bn1(x)\n",
    "        x = self.third_layer_up_pre1(x)\n",
    "        third_seg_map = self.third_seg(x)\n",
    "        x = self.third_layer_up_conv2(x)\n",
    "        x = self.third_layer_up_bn2(x)\n",
    "        x = self.third_layer_up_pre2(x)\n",
    "        x = self.third_layer_up_deconv(x)\n",
    "        x = self.third_layer_up_bn3(x)\n",
    "        x = self.third_layer_up_pre3(x)\n",
    "        \n",
    "        x = torch.cat((x, second_layer_feature), 1)\n",
    "        x = self.second_layer_up_conv1(x)\n",
    "        x = self.second_layer_up_bn1(x)\n",
    "        x = self.second_layer_up_pre1(x)\n",
    "        second_seg_map = self.second_seg(x)\n",
    "        x = self.second_layer_up_conv2(x)\n",
    "        x = self.second_layer_up_bn2(x)\n",
    "        x = self.second_layer_up_pre2(x)\n",
    "        x = self.second_layer_up_deconv(x)\n",
    "        x = self.second_layer_up_bn3(x)\n",
    "        x = self.second_layer_up_pre3(x)\n",
    "        \n",
    "        x = torch.cat((x, first_layer_feature), 1)\n",
    "        x = self.first_layer_up_conv1(x)\n",
    "        x = self.first_layer_up_bn1(x)\n",
    "        x = self.first_layer_up_pre1(x)\n",
    "        first_seg_map = self.first_seg(x)\n",
    "        \n",
    "        third_seg_map = self.upsample_layer(third_seg_map)\n",
    "        second_seg_map = torch.add(third_seg_map, second_seg_map)\n",
    "        second_seg_map = self.upsample_layer(second_seg_map)\n",
    "        x = torch.add(first_seg_map, second_seg_map)\n",
    "        return x\n",
    "        \n",
    "net = Unet()\n",
    "net.cuda(0)\n",
    "prev_time = time.clock()\n",
    "\n",
    "for param in net.parameters():\n",
    "    try:\n",
    "        nout = param.size()[0]\n",
    "        nin = param.size()[1]\n",
    "        ini.normal(param.data, mean = 0, std = 0.01)\n",
    "        param = param / ((2/(nin+nout))**0.5)\n",
    "    except:\n",
    "        pass"
   ]
  },
  {
   "cell_type": "code",
   "execution_count": 2,
   "metadata": {},
   "outputs": [
    {
     "name": "stdout",
     "output_type": "stream",
     "text": [
      "torch.Size([1, 5, 128, 128, 96])\n"
     ]
    }
   ],
   "source": [
    "x = Variable(torch.randn(1,4,128,128,96)).cuda(0)\n",
    "out = net.forward(x)\n",
    "print(out.size())"
   ]
  },
  {
   "cell_type": "code",
   "execution_count": 3,
   "metadata": {},
   "outputs": [
    {
     "name": "stdout",
     "output_type": "stream",
     "text": [
      "torch.Size([1, 128, 12288])\n",
      "torch.Size([1, 128, 12288])\n"
     ]
    }
   ],
   "source": [
    "out = out.view(5, -1)\n",
    "_, out = torch.max(out, 0)\n",
    "out = out.view(1, 128 , -1)\n",
    "target = Variable(torch.LongTensor(1, 128, 128, 96).zero_()).cuda(0)\n",
    "target = target.view(1, 128, -1)\n",
    "print(out.size())\n",
    "print(target.size())"
   ]
  },
  {
   "cell_type": "code",
   "execution_count": 4,
   "metadata": {},
   "outputs": [
    {
     "name": "stdout",
     "output_type": "stream",
     "text": [
      "\n",
      " 1.5729e+06\n",
      "[torch.cuda.LongTensor of size 1 (GPU 0)]\n",
      "\n"
     ]
    },
    {
     "ename": "AttributeError",
     "evalue": "'torch.cuda.LongTensor' object has no attribute 'neg'",
     "output_type": "error",
     "traceback": [
      "\u001b[0;31m---------------------------------------------------------------------------\u001b[0m",
      "\u001b[0;31mAttributeError\u001b[0m                            Traceback (most recent call last)",
      "\u001b[0;32m<ipython-input-4-846fa537e287>\u001b[0m in \u001b[0;36m<module>\u001b[0;34m()\u001b[0m\n\u001b[1;32m      1\u001b[0m \u001b[0;32mfrom\u001b[0m \u001b[0mlosses\u001b[0m \u001b[0;32mimport\u001b[0m \u001b[0mlovaszloss\u001b[0m\u001b[0;34m\u001b[0m\u001b[0m\n\u001b[0;32m----> 2\u001b[0;31m \u001b[0mloss\u001b[0m \u001b[0;34m=\u001b[0m \u001b[0mlovaszloss\u001b[0m\u001b[0;34m(\u001b[0m\u001b[0mout\u001b[0m\u001b[0;34m,\u001b[0m \u001b[0mtarget\u001b[0m\u001b[0;34m)\u001b[0m\u001b[0;34m\u001b[0m\u001b[0m\n\u001b[0m\u001b[1;32m      3\u001b[0m \u001b[0mprint\u001b[0m\u001b[0;34m(\u001b[0m\u001b[0mloss\u001b[0m\u001b[0;34m)\u001b[0m\u001b[0;34m\u001b[0m\u001b[0m\n",
      "\u001b[0;32m/home/yiqin/unet/losses.py\u001b[0m in \u001b[0;36mlovaszloss\u001b[0;34m(logits, labels, prox, max_steps, debug)\u001b[0m\n\u001b[1;32m     92\u001b[0m     \u001b[0;32mif\u001b[0m \u001b[0mlogits\u001b[0m\u001b[0;34m.\u001b[0m\u001b[0msize\u001b[0m\u001b[0;34m(\u001b[0m\u001b[0;36m0\u001b[0m\u001b[0;34m)\u001b[0m \u001b[0;34m==\u001b[0m \u001b[0;36m1\u001b[0m\u001b[0;34m:\u001b[0m\u001b[0;34m\u001b[0m\u001b[0m\n\u001b[1;32m     93\u001b[0m         \u001b[0;31m# single image case\u001b[0m\u001b[0;34m\u001b[0m\u001b[0;34m\u001b[0m\u001b[0m\n\u001b[0;32m---> 94\u001b[0;31m         \u001b[0mloss\u001b[0m \u001b[0;34m=\u001b[0m \u001b[0mlovasz_single\u001b[0m\u001b[0;34m(\u001b[0m\u001b[0mlogits\u001b[0m\u001b[0;34m.\u001b[0m\u001b[0msqueeze\u001b[0m\u001b[0;34m(\u001b[0m\u001b[0;36m0\u001b[0m\u001b[0;34m)\u001b[0m\u001b[0;34m,\u001b[0m \u001b[0mlabels\u001b[0m\u001b[0;34m.\u001b[0m\u001b[0msqueeze\u001b[0m\u001b[0;34m(\u001b[0m\u001b[0;36m0\u001b[0m\u001b[0;34m)\u001b[0m\u001b[0;34m,\u001b[0m \u001b[0mprox\u001b[0m\u001b[0;34m,\u001b[0m \u001b[0mmax_steps\u001b[0m\u001b[0;34m,\u001b[0m \u001b[0mdebug\u001b[0m\u001b[0;34m)\u001b[0m\u001b[0;34m\u001b[0m\u001b[0m\n\u001b[0m\u001b[1;32m     95\u001b[0m     \u001b[0;32melse\u001b[0m\u001b[0;34m:\u001b[0m\u001b[0;34m\u001b[0m\u001b[0m\n\u001b[1;32m     96\u001b[0m         \u001b[0mlosses\u001b[0m \u001b[0;34m=\u001b[0m \u001b[0;34m[\u001b[0m\u001b[0;34m]\u001b[0m\u001b[0;34m\u001b[0m\u001b[0m\n",
      "\u001b[0;32m/home/yiqin/unet/losses.py\u001b[0m in \u001b[0;36mlovasz_single\u001b[0;34m(logit, label, prox, max_steps, debug)\u001b[0m\n\u001b[1;32m    245\u001b[0m     \u001b[0msigns\u001b[0m \u001b[0;34m=\u001b[0m \u001b[0;36m2\u001b[0m \u001b[0;34m*\u001b[0m \u001b[0mtarget\u001b[0m\u001b[0;34m.\u001b[0m\u001b[0mlong\u001b[0m\u001b[0;34m(\u001b[0m\u001b[0;34m)\u001b[0m \u001b[0;34m-\u001b[0m \u001b[0;36m1\u001b[0m\u001b[0;34m\u001b[0m\u001b[0m\n\u001b[1;32m    246\u001b[0m     \u001b[0mlogit\u001b[0m \u001b[0;34m=\u001b[0m \u001b[0mlogit\u001b[0m\u001b[0;34m.\u001b[0m\u001b[0mcontiguous\u001b[0m\u001b[0;34m(\u001b[0m\u001b[0;34m)\u001b[0m\u001b[0;34m.\u001b[0m\u001b[0mview\u001b[0m\u001b[0;34m(\u001b[0m\u001b[0;34m-\u001b[0m\u001b[0;36m1\u001b[0m\u001b[0;34m)\u001b[0m\u001b[0;34m[\u001b[0m\u001b[0mmask\u001b[0m\u001b[0;34m]\u001b[0m\u001b[0;34m\u001b[0m\u001b[0m\n\u001b[0;32m--> 247\u001b[0;31m     \u001b[0mmargins\u001b[0m \u001b[0;34m=\u001b[0m \u001b[0;34m(\u001b[0m\u001b[0;36m1\u001b[0m \u001b[0;34m-\u001b[0m \u001b[0mlogit\u001b[0m \u001b[0;34m*\u001b[0m \u001b[0msigns\u001b[0m\u001b[0;34m)\u001b[0m\u001b[0;34m\u001b[0m\u001b[0m\n\u001b[0m\u001b[1;32m    248\u001b[0m     \u001b[0mloss\u001b[0m \u001b[0;34m=\u001b[0m \u001b[0mlovasz_binary\u001b[0m\u001b[0;34m(\u001b[0m\u001b[0mmargins\u001b[0m\u001b[0;34m,\u001b[0m \u001b[0mtarget\u001b[0m\u001b[0;34m,\u001b[0m \u001b[0mprox\u001b[0m\u001b[0;34m,\u001b[0m \u001b[0mmax_steps\u001b[0m\u001b[0;34m,\u001b[0m \u001b[0mdebug\u001b[0m\u001b[0;34m=\u001b[0m\u001b[0mdebug\u001b[0m\u001b[0;34m)\u001b[0m\u001b[0;34m\u001b[0m\u001b[0m\n\u001b[1;32m    249\u001b[0m     \u001b[0;32mreturn\u001b[0m \u001b[0mloss\u001b[0m\u001b[0;34m\u001b[0m\u001b[0m\n",
      "\u001b[0;32m/home/yiqin/anaconda3/lib/python3.6/site-packages/torch/autograd/variable.py\u001b[0m in \u001b[0;36m__rsub__\u001b[0;34m(self, other)\u001b[0m\n\u001b[1;32m    801\u001b[0m \u001b[0;34m\u001b[0m\u001b[0m\n\u001b[1;32m    802\u001b[0m     \u001b[0;32mdef\u001b[0m \u001b[0m__rsub__\u001b[0m\u001b[0;34m(\u001b[0m\u001b[0mself\u001b[0m\u001b[0;34m,\u001b[0m \u001b[0mother\u001b[0m\u001b[0;34m)\u001b[0m\u001b[0;34m:\u001b[0m\u001b[0;34m\u001b[0m\u001b[0m\n\u001b[0;32m--> 803\u001b[0;31m         \u001b[0;32mreturn\u001b[0m \u001b[0mSubConstant\u001b[0m\u001b[0;34m.\u001b[0m\u001b[0mapply\u001b[0m\u001b[0;34m(\u001b[0m\u001b[0mother\u001b[0m\u001b[0;34m,\u001b[0m \u001b[0mself\u001b[0m\u001b[0;34m)\u001b[0m\u001b[0;34m\u001b[0m\u001b[0m\n\u001b[0m\u001b[1;32m    804\u001b[0m \u001b[0;34m\u001b[0m\u001b[0m\n\u001b[1;32m    805\u001b[0m     \u001b[0;32mdef\u001b[0m \u001b[0m__mul__\u001b[0m\u001b[0;34m(\u001b[0m\u001b[0mself\u001b[0m\u001b[0;34m,\u001b[0m \u001b[0mother\u001b[0m\u001b[0;34m)\u001b[0m\u001b[0;34m:\u001b[0m\u001b[0;34m\u001b[0m\u001b[0m\n",
      "\u001b[0;32m/home/yiqin/anaconda3/lib/python3.6/site-packages/torch/autograd/_functions/basic_ops.py\u001b[0m in \u001b[0;36mforward\u001b[0;34m(ctx, a, b, inplace)\u001b[0m\n\u001b[1;32m    128\u001b[0m                 \u001b[0;32mreturn\u001b[0m \u001b[0mtensor\u001b[0m\u001b[0;34m.\u001b[0m\u001b[0mneg_\u001b[0m\u001b[0;34m(\u001b[0m\u001b[0;34m)\u001b[0m\u001b[0;34m.\u001b[0m\u001b[0madd_\u001b[0m\u001b[0;34m(\u001b[0m\u001b[0mconstant\u001b[0m\u001b[0;34m)\u001b[0m\u001b[0;34m\u001b[0m\u001b[0m\n\u001b[1;32m    129\u001b[0m             \u001b[0;32melse\u001b[0m\u001b[0;34m:\u001b[0m\u001b[0;34m\u001b[0m\u001b[0m\n\u001b[0;32m--> 130\u001b[0;31m                 \u001b[0;32mreturn\u001b[0m \u001b[0mtensor\u001b[0m\u001b[0;34m.\u001b[0m\u001b[0mneg\u001b[0m\u001b[0;34m(\u001b[0m\u001b[0;34m)\u001b[0m\u001b[0;34m.\u001b[0m\u001b[0madd_\u001b[0m\u001b[0;34m(\u001b[0m\u001b[0mconstant\u001b[0m\u001b[0;34m)\u001b[0m\u001b[0;34m\u001b[0m\u001b[0m\n\u001b[0m\u001b[1;32m    131\u001b[0m \u001b[0;34m\u001b[0m\u001b[0m\n\u001b[1;32m    132\u001b[0m     \u001b[0;34m@\u001b[0m\u001b[0mstaticmethod\u001b[0m\u001b[0;34m\u001b[0m\u001b[0m\n",
      "\u001b[0;31mAttributeError\u001b[0m: 'torch.cuda.LongTensor' object has no attribute 'neg'"
     ]
    }
   ],
   "source": [
    "from losses import lovaszloss\n",
    "loss = lovaszloss(out, target)\n",
    "print(loss)"
   ]
  },
  {
   "cell_type": "code",
   "execution_count": null,
   "metadata": {
    "collapsed": true
   },
   "outputs": [],
   "source": []
  }
 ],
 "metadata": {
  "kernelspec": {
   "display_name": "Python 3",
   "language": "python",
   "name": "python3"
  },
  "language_info": {
   "codemirror_mode": {
    "name": "ipython",
    "version": 3
   },
   "file_extension": ".py",
   "mimetype": "text/x-python",
   "name": "python",
   "nbconvert_exporter": "python",
   "pygments_lexer": "ipython3",
   "version": "3.6.1"
  }
 },
 "nbformat": 4,
 "nbformat_minor": 2
}
